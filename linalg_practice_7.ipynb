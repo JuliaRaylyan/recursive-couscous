{
 "cells": [
  {
   "cell_type": "code",
   "execution_count": 58,
   "metadata": {},
   "outputs": [],
   "source": [
    "import numpy as np\n",
    "import copy\n",
    "import math"
   ]
  },
  {
   "cell_type": "markdown",
   "metadata": {},
   "source": [
    "# Задание 1 и 5"
   ]
  },
  {
   "cell_type": "code",
   "execution_count": 46,
   "metadata": {},
   "outputs": [],
   "source": [
    "a = np.array([[1, -2], [3, -4]])\n",
    "b = np.array([1, 7])"
   ]
  },
  {
   "cell_type": "code",
   "execution_count": 47,
   "metadata": {},
   "outputs": [],
   "source": [
    "def kramer(a, b):\n",
    "    if np.linalg.det(a) != 0 and a.shape[1] == len(b):\n",
    "        res = []\n",
    "        for x in range(len(b)):\n",
    "            k = copy.deepcopy(a)\n",
    "            k[:, x] = b\n",
    "            np.linalg.det(k)\n",
    "            res.append(np.linalg.det(k) / np.linalg.det(a))\n",
    "        return res\n",
    "    else:\n",
    "        return 'Решение нельзя найти методом Крамера'"
   ]
  },
  {
   "cell_type": "code",
   "execution_count": 48,
   "metadata": {},
   "outputs": [
    {
     "data": {
      "text/plain": [
       "[4.999999999999998, 1.9999999999999991]"
      ]
     },
     "execution_count": 48,
     "metadata": {},
     "output_type": "execute_result"
    }
   ],
   "source": [
    "kramer(a, b)"
   ]
  },
  {
   "cell_type": "code",
   "execution_count": 49,
   "metadata": {},
   "outputs": [],
   "source": [
    "a = np.array([[2, -1, 5], [1, 1, -3], [2, 4, 1]])\n",
    "b = np.array([10, -2, 1])"
   ]
  },
  {
   "cell_type": "code",
   "execution_count": 50,
   "metadata": {},
   "outputs": [
    {
     "data": {
      "text/plain": [
       "[2.0000000000000018, -1.0000000000000009, 1.0]"
      ]
     },
     "execution_count": 50,
     "metadata": {},
     "output_type": "execute_result"
    }
   ],
   "source": [
    "kramer(a, b)"
   ]
  },
  {
   "cell_type": "code",
   "execution_count": null,
   "metadata": {},
   "outputs": [],
   "source": []
  },
  {
   "cell_type": "markdown",
   "metadata": {},
   "source": [
    "# Задание 4"
   ]
  },
  {
   "cell_type": "code",
   "execution_count": 100,
   "metadata": {},
   "outputs": [],
   "source": [
    "a = np.array([[81, -45, 45], [-45, 50, -15], [45, -15, 38]])\n",
    "b = np.array([531, -460, 193])"
   ]
  },
  {
   "cell_type": "code",
   "execution_count": 101,
   "metadata": {},
   "outputs": [],
   "source": [
    "def holetsky3(a, b):\n",
    "    if np.linalg.det(a) != 0 and a.shape[1] == len(b) and len(b) == 3:\n",
    "        L = np.zeros(a.shape, dtype=float)\n",
    "        L[0, 0] = math.sqrt(a[0, 0])\n",
    "        L[1, 0] = a[1, 0] / L[0, 0]\n",
    "        L[2, 0] = a[2, 0] / L[0, 0]\n",
    "        L[1, 1] = math.sqrt(a[1, 1] - math.pow(L[1, 0], 2))\n",
    "        L[2, 1] = 1 / L[1, 1] * (a[2, 1] - L[1, 0] * L[2, 0])\n",
    "        L[2, 2] = math.sqrt(a[2, 2] - math.pow(L[2, 0], 2) - math.pow(L[2, 1], 2))\n",
    "        y = np.linalg.solve(L, b)\n",
    "        res = np.linalg.solve(L.T, y)\n",
    "        return res\n",
    "    else:\n",
    "        return 'Решение нельзя найти методом Холецкого, либо размер матрицы != 3'"
   ]
  },
  {
   "cell_type": "code",
   "execution_count": 102,
   "metadata": {},
   "outputs": [
    {
     "data": {
      "text/plain": [
       "array([ 6., -5., -4.])"
      ]
     },
     "execution_count": 102,
     "metadata": {},
     "output_type": "execute_result"
    }
   ],
   "source": [
    "holetsky3(a, b)"
   ]
  },
  {
   "cell_type": "code",
   "execution_count": null,
   "metadata": {},
   "outputs": [],
   "source": []
  },
  {
   "cell_type": "code",
   "execution_count": null,
   "metadata": {},
   "outputs": [],
   "source": []
  },
  {
   "cell_type": "code",
   "execution_count": null,
   "metadata": {},
   "outputs": [],
   "source": []
  },
  {
   "cell_type": "code",
   "execution_count": null,
   "metadata": {},
   "outputs": [],
   "source": []
  }
 ],
 "metadata": {
  "kernelspec": {
   "display_name": "Python 3",
   "language": "python",
   "name": "python3"
  },
  "language_info": {
   "codemirror_mode": {
    "name": "ipython",
    "version": 3
   },
   "file_extension": ".py",
   "mimetype": "text/x-python",
   "name": "python",
   "nbconvert_exporter": "python",
   "pygments_lexer": "ipython3",
   "version": "3.7.6"
  }
 },
 "nbformat": 4,
 "nbformat_minor": 4
}
