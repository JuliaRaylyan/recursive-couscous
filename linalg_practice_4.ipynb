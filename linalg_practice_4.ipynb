{
 "cells": [
  {
   "cell_type": "code",
   "execution_count": 62,
   "metadata": {},
   "outputs": [],
   "source": [
    "import numpy as np"
   ]
  },
  {
   "cell_type": "markdown",
   "metadata": {},
   "source": [
    "# Задание 1"
   ]
  },
  {
   "cell_type": "raw",
   "metadata": {},
   "source": [
    "Вычислить определитель"
   ]
  },
  {
   "cell_type": "raw",
   "metadata": {},
   "source": [
    "A = np.array([[sinx, -cosx], [cosx, sinx]])\n",
    "\n",
    "# Определитель матрицы 2 порядка равен:\n",
    "sinx * sinx - (-cosx) * cosx = sinx^2 + cosx^2 = 1"
   ]
  },
  {
   "cell_type": "code",
   "execution_count": 8,
   "metadata": {},
   "outputs": [
    {
     "name": "stdout",
     "output_type": "stream",
     "text": [
      "Определитель по формуле вручную равен 180\n",
      "Определитель по встроенной формуле равен 180.0\n"
     ]
    }
   ],
   "source": [
    "B = np.array([[4, 2, 3], [0, 5, 1], [0, 0, 9]])\n",
    "\n",
    "# так как это диагональная матрица, то определитель равен произведению элементов на главной диагонали\n",
    "dB = 1\n",
    "for x in range(B.shape[0]):\n",
    "    dB *= B[x][x]\n",
    "    \n",
    "print('Определитель по формуле вручную равен {}'.format(dB))\n",
    "\n",
    "# проверим на встроенной функции numpy\n",
    "print('Определитель по встроенной формуле равен {}'.format(np.linalg.det(B)))"
   ]
  },
  {
   "cell_type": "code",
   "execution_count": 39,
   "metadata": {},
   "outputs": [],
   "source": [
    "C = np.array([[1, 2, 3], [4, 5, 6], [7, 8, 9]])"
   ]
  },
  {
   "cell_type": "code",
   "execution_count": 43,
   "metadata": {},
   "outputs": [],
   "source": [
    "# напишем функцию расчета определителя для матрицы 3-ого порядка\n",
    "def det(a):\n",
    "    return a[0][0] * a[1][1] * a[2][2] + a[0][1] * a[1][2] * a[2][0] + a[0][2] * a[1][0] * a[2][1] - a[0][2] * a[1][1] * a[2][0] - a[0][0] * a[1][2] * a[2][1] - a[0][1] * a[1][0] * a[2][2]"
   ]
  },
  {
   "cell_type": "code",
   "execution_count": 44,
   "metadata": {},
   "outputs": [
    {
     "data": {
      "text/plain": [
       "0"
      ]
     },
     "execution_count": 44,
     "metadata": {},
     "output_type": "execute_result"
    }
   ],
   "source": [
    "# посчитаем определитель вручную\n",
    "det(C)"
   ]
  },
  {
   "cell_type": "code",
   "execution_count": 45,
   "metadata": {},
   "outputs": [
    {
     "data": {
      "text/plain": [
       "0.0"
      ]
     },
     "execution_count": 45,
     "metadata": {},
     "output_type": "execute_result"
    }
   ],
   "source": [
    "# проверим через встроенную функцию\n",
    "np.linalg.det(C)"
   ]
  },
  {
   "cell_type": "markdown",
   "metadata": {},
   "source": [
    "# Задание 2"
   ]
  },
  {
   "cell_type": "markdown",
   "metadata": {},
   "source": [
    "Определитель матрицы  𝐴  равен  4 . Найти:"
   ]
  },
  {
   "cell_type": "raw",
   "metadata": {},
   "source": [
    "определитель в квадрате\n",
    "\n",
    "по свойству: определитель произведения матриц равен произведению его определителей, то \n",
    "определитель в квадрате = 16"
   ]
  },
  {
   "cell_type": "raw",
   "metadata": {},
   "source": [
    "определитель транспонированной матрицы = 4"
   ]
  },
  {
   "cell_type": "raw",
   "metadata": {},
   "source": [
    "определитель матрицы * 2 = 8"
   ]
  },
  {
   "cell_type": "markdown",
   "metadata": {},
   "source": [
    "# Задание 3"
   ]
  },
  {
   "cell_type": "raw",
   "metadata": {},
   "source": [
    "Доказать, что матрица вырожденная."
   ]
  },
  {
   "cell_type": "code",
   "execution_count": 47,
   "metadata": {},
   "outputs": [],
   "source": [
    "D = np.array([[-2, 7, -3], [4, -14, 6], [-3, 7, 13]])"
   ]
  },
  {
   "cell_type": "raw",
   "metadata": {},
   "source": [
    "Для этого достаточно найти ее определитель."
   ]
  },
  {
   "cell_type": "code",
   "execution_count": 48,
   "metadata": {},
   "outputs": [
    {
     "data": {
      "text/plain": [
       "0"
      ]
     },
     "execution_count": 48,
     "metadata": {},
     "output_type": "execute_result"
    }
   ],
   "source": [
    "det(D)"
   ]
  },
  {
   "cell_type": "raw",
   "metadata": {},
   "source": [
    "Так как определитель = 0, то матрица — вырожденная."
   ]
  },
  {
   "cell_type": "markdown",
   "metadata": {},
   "source": [
    "# Задание 4"
   ]
  },
  {
   "cell_type": "raw",
   "metadata": {},
   "source": [
    "Найти ранг матрицы."
   ]
  },
  {
   "cell_type": "code",
   "execution_count": 57,
   "metadata": {},
   "outputs": [],
   "source": [
    "E = np.array([[1, 2, 3], [1, 1, 1], [2, 3, 4]])"
   ]
  },
  {
   "cell_type": "raw",
   "metadata": {},
   "source": [
    "1. Третья строка является суммой первых двух — ее можно исключить.\n",
    "2. Из первой вычтем вторую\n",
    "3. Из второй вычтем первую\n",
    "4. Поменяем местами первую и вторую\n",
    "\n",
    "Получим матрицу вида с рагном 2\n",
    "\n",
    "E = np.array([[0, 1, 2], [1, 0, -1]])"
   ]
  },
  {
   "cell_type": "code",
   "execution_count": 58,
   "metadata": {},
   "outputs": [
    {
     "data": {
      "text/plain": [
       "2"
      ]
     },
     "execution_count": 58,
     "metadata": {},
     "output_type": "execute_result"
    }
   ],
   "source": [
    "# проверим на встроенной библиотеке\n",
    "np.linalg.matrix_rank(E)"
   ]
  },
  {
   "cell_type": "code",
   "execution_count": null,
   "metadata": {},
   "outputs": [],
   "source": []
  },
  {
   "cell_type": "code",
   "execution_count": 60,
   "metadata": {},
   "outputs": [],
   "source": [
    "F = np.array([[0, 0, 2, 1], [0, 0, 2, 2], [0, 0, 4, 3], [2, 3, 5, 6]])"
   ]
  },
  {
   "cell_type": "raw",
   "metadata": {},
   "source": [
    "1. вычтем из второй строки первую\n",
    "2. вычтем изтретьей строки первую умноженную на 2\n",
    "3. выкенем третью строку, так как она является линейной комбинацией второй\n",
    "\n",
    "Получим матрицу с рангом 3 вида\n",
    "\n",
    "F = np.array([[0, 0, 2, 1], [0, 0, 0, 1], [2, 3, 5, 6]])"
   ]
  },
  {
   "cell_type": "code",
   "execution_count": 61,
   "metadata": {},
   "outputs": [
    {
     "data": {
      "text/plain": [
       "3"
      ]
     },
     "execution_count": 61,
     "metadata": {},
     "output_type": "execute_result"
    }
   ],
   "source": [
    "np.linalg.matrix_rank(F)"
   ]
  },
  {
   "cell_type": "code",
   "execution_count": null,
   "metadata": {},
   "outputs": [],
   "source": []
  }
 ],
 "metadata": {
  "kernelspec": {
   "display_name": "Python 3",
   "language": "python",
   "name": "python3"
  },
  "language_info": {
   "codemirror_mode": {
    "name": "ipython",
    "version": 3
   },
   "file_extension": ".py",
   "mimetype": "text/x-python",
   "name": "python",
   "nbconvert_exporter": "python",
   "pygments_lexer": "ipython3",
   "version": "3.7.6"
  }
 },
 "nbformat": 4,
 "nbformat_minor": 4
}
