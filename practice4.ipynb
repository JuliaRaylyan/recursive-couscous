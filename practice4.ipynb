{
 "cells": [
  {
   "cell_type": "markdown",
   "metadata": {},
   "source": [
    "# Задание 1"
   ]
  },
  {
   "cell_type": "markdown",
   "metadata": {},
   "source": [
    "Случайная непрерывная величина A имеет равномерное распределение на промежутке (200, 800].\n",
    "Найдите ее среднее значение и дисперсию."
   ]
  },
  {
   "cell_type": "code",
   "execution_count": 8,
   "metadata": {},
   "outputs": [],
   "source": [
    "import math\n",
    "import numpy as np"
   ]
  },
  {
   "cell_type": "code",
   "execution_count": 9,
   "metadata": {},
   "outputs": [],
   "source": [
    "def M(a, b):\n",
    "    return round((a + b) / 2, 2)"
   ]
  },
  {
   "cell_type": "code",
   "execution_count": 10,
   "metadata": {},
   "outputs": [],
   "source": [
    "def D(a, b):\n",
    "    return round(math.pow((b-a), 2) / 12, 2)"
   ]
  },
  {
   "cell_type": "code",
   "execution_count": 11,
   "metadata": {},
   "outputs": [
    {
     "name": "stdout",
     "output_type": "stream",
     "text": [
      "Математическое ожидание: 500.0\n",
      "Дисперсия: 30000.0\n"
     ]
    }
   ],
   "source": [
    "a = 200\n",
    "b = 800\n",
    "\n",
    "print('Математическое ожидание: {}'.format(M(a, b))) \n",
    "print('Дисперсия: {}'.format(D(a, b))) "
   ]
  },
  {
   "cell_type": "code",
   "execution_count": null,
   "metadata": {},
   "outputs": [],
   "source": []
  },
  {
   "cell_type": "markdown",
   "metadata": {},
   "source": [
    "# Задание 2"
   ]
  },
  {
   "cell_type": "markdown",
   "metadata": {},
   "source": [
    "О случайной непрерывной равномерно распределенной величине B известно, что ее дисперсия равна 0.2.\n",
    "Можно ли найти правую границу величины B и ее среднее значение зная, что левая граница равна 0.5?"
   ]
  },
  {
   "cell_type": "code",
   "execution_count": 12,
   "metadata": {},
   "outputs": [],
   "source": [
    "def right_border(D, a):\n",
    "    return round(math.sqrt(12 * D) + a, 2)"
   ]
  },
  {
   "cell_type": "code",
   "execution_count": 13,
   "metadata": {},
   "outputs": [
    {
     "name": "stdout",
     "output_type": "stream",
     "text": [
      "Правая граница: 2.05\n",
      "Математическое ожидание: 1.27\n"
     ]
    }
   ],
   "source": [
    "a = 0.5\n",
    "D = 0.2\n",
    "\n",
    "b = right_border(D, a)\n",
    "\n",
    "print('Правая граница: {}'.format(b)) \n",
    "print('Математическое ожидание: {}'.format(M(a, b))) "
   ]
  },
  {
   "cell_type": "code",
   "execution_count": null,
   "metadata": {},
   "outputs": [],
   "source": []
  },
  {
   "cell_type": "markdown",
   "metadata": {},
   "source": [
    "# Задание 3"
   ]
  },
  {
   "cell_type": "markdown",
   "metadata": {},
   "source": [
    "Непрерывная случайная величина X распределена нормально и задана плотностью распределения\n",
    "f(x) = (1 / (4 * sqrt(2*pi))) * (exp(-((x+2)**2) / 32))\n",
    "Найдите:\n",
    "а). M(X)\n",
    "б). D(X)\n",
    "в). std(X) (среднее квадратичное отклонение)"
   ]
  },
  {
   "cell_type": "code",
   "execution_count": 15,
   "metadata": {},
   "outputs": [
    {
     "name": "stdout",
     "output_type": "stream",
     "text": [
      "Математическое ожидание: -2\n",
      "Дисперсия: 16\n",
      "Среднеквадратическое отклонение: 4\n"
     ]
    }
   ],
   "source": [
    "# Значения берем прямо из формулы\n",
    "\n",
    "print('Математическое ожидание: {}'.format(-2)) \n",
    "print('Дисперсия: {}'.format(16)) \n",
    "print('Среднеквадратическое отклонение: {}'.format(4)) "
   ]
  },
  {
   "cell_type": "code",
   "execution_count": null,
   "metadata": {},
   "outputs": [],
   "source": []
  },
  {
   "cell_type": "markdown",
   "metadata": {},
   "source": [
    "# Задание 4"
   ]
  },
  {
   "cell_type": "markdown",
   "metadata": {},
   "source": [
    "Рост взрослого населения города X имеет нормальное распределение.\n",
    "Причем, средний рост равен 174 см, а среднее квадратичное отклонение равно 8 см.\n",
    "Какова вероятность того, что случайным образом выбранный взрослый человек имеет рост:\n",
    "а). больше 182 см\n",
    "б). больше 190 см\n",
    "в). от 166 см до 190 см\n",
    "г). от 166 см до 182 см\n",
    "д). от 158 см до 190 см\n",
    "е). не выше 150 см или не ниже 190 см\n",
    "ё). не выше 150 см или не ниже 198 см\n",
    "ж). ниже 166 см."
   ]
  },
  {
   "cell_type": "code",
   "execution_count": 17,
   "metadata": {},
   "outputs": [],
   "source": [
    "# Считаем Z значение и находим вероятность по табличке\n",
    "# https://gallery.shinyapps.io/dist_calc/\n",
    "\n",
    "M = 174.\n",
    "std = 8.\n",
    "\n",
    "x1 = 182\n",
    "x2 = 190\n",
    "x3 = np.array([166, 190])\n",
    "x4 = np.array([166, 182])\n",
    "x5 = np.array([158, 190])\n",
    "x6 = np.array([150, 190])\n",
    "x7 = np.array([150, 198])\n",
    "x8 = 166\n",
    "\n",
    "Z1 = (x1 - M) / std\n",
    "Z2 = (x2 - M) / std\n",
    "Z3 = (x3 - M) / std\n",
    "Z4 = (x4 - M) / std\n",
    "Z5 = (x5 - M) / std\n",
    "Z6 = (x6 - M) / std\n",
    "Z7 = (x7 - M) / std\n",
    "Z8 = (x8 - M) / std"
   ]
  },
  {
   "cell_type": "code",
   "execution_count": 18,
   "metadata": {},
   "outputs": [
    {
     "name": "stdout",
     "output_type": "stream",
     "text": [
      "1.0\n",
      "2.0\n",
      "[-1.  2.]\n",
      "[-1.  1.]\n",
      "[-2.  2.]\n",
      "[-3.  2.]\n",
      "[-3.  3.]\n",
      "-1.0\n"
     ]
    }
   ],
   "source": [
    "print(Z1)\n",
    "print(Z2)\n",
    "print(Z3)\n",
    "print(Z4)\n",
    "print(Z5)\n",
    "print(Z6)\n",
    "print(Z7)\n",
    "print(Z8)"
   ]
  },
  {
   "cell_type": "markdown",
   "metadata": {},
   "source": []
  },
  {
   "cell_type": "code",
   "execution_count": 19,
   "metadata": {},
   "outputs": [
    {
     "name": "stdout",
     "output_type": "stream",
     "text": [
      "Вероятность того, что выбранный человек больше 182 см — 16%\n",
      "Вероятность того, что выбранный человек больше 190 см — 2.28%\n",
      "Вероятность того, что выбранный человек от 166 до 190 см — 82%\n",
      "Вероятность того, что выбранный человек от 166 до 182 см — 68%\n",
      "Вероятность того, что выбранный человек от 158 до 190 см — 95%\n",
      "Вероятность того, что выбранный человек не выше 150 см и не ниже 190 см — 2.4%\n",
      "Вероятность того, что выбранный человек не выше 150 см и не ниже 198 см — 0.27%\n",
      "Вероятность того, что выбранный человек ниже 166 см — 16%\n"
     ]
    }
   ],
   "source": [
    "print('Вероятность того, что выбранный человек больше 182 см — 16%')\n",
    "print('Вероятность того, что выбранный человек больше 190 см — 2.28%')\n",
    "print('Вероятность того, что выбранный человек от 166 до 190 см — 82%')\n",
    "print('Вероятность того, что выбранный человек от 166 до 182 см — 68%')\n",
    "print('Вероятность того, что выбранный человек от 158 до 190 см — 95%')\n",
    "print('Вероятность того, что выбранный человек не выше 150 см и не ниже 190 см — 2.4%')\n",
    "print('Вероятность того, что выбранный человек не выше 150 см и не ниже 198 см — 0.27%')\n",
    "print('Вероятность того, что выбранный человек ниже 166 см — 16%')"
   ]
  },
  {
   "cell_type": "markdown",
   "metadata": {},
   "source": [
    "# Задание 5"
   ]
  },
  {
   "cell_type": "markdown",
   "metadata": {},
   "source": [
    "На сколько сигм (средних квадратичных отклонений) отклоняется рост человека, равный 190 см, от\n",
    "математического ожидания роста в популяции, в которой M(X) = 178 см и D(X) = 25 кв.см?"
   ]
  },
  {
   "cell_type": "code",
   "execution_count": 20,
   "metadata": {},
   "outputs": [
    {
     "name": "stdout",
     "output_type": "stream",
     "text": [
      "Отклонение на 2.4 сигм\n"
     ]
    }
   ],
   "source": [
    "print('Отклонение на {} сигм'.format((190 - 178) / math.sqrt(25)))"
   ]
  },
  {
   "cell_type": "code",
   "execution_count": null,
   "metadata": {},
   "outputs": [],
   "source": []
  }
 ],
 "metadata": {
  "kernelspec": {
   "display_name": "Python 3",
   "language": "python",
   "name": "python3"
  },
  "language_info": {
   "codemirror_mode": {
    "name": "ipython",
    "version": 3
   },
   "file_extension": ".py",
   "mimetype": "text/x-python",
   "name": "python",
   "nbconvert_exporter": "python",
   "pygments_lexer": "ipython3",
   "version": "3.7.6"
  }
 },
 "nbformat": 4,
 "nbformat_minor": 4
}
