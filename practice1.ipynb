{
 "cells": [
  {
   "cell_type": "markdown",
   "metadata": {},
   "source": [
    "# Задание 1"
   ]
  },
  {
   "cell_type": "markdown",
   "metadata": {},
   "source": [
    "Из колоды в 52 карты извлекаются случайным образом 4 карты. a) Найти вероятность того, что все карты – крести. б) Найти вероятность, что среди 4-х карт окажется хотя бы один туз."
   ]
  },
  {
   "cell_type": "markdown",
   "metadata": {},
   "source": [
    "Ищем вероятность того, что из 4 выбранных карт из 36 мы выбрали крести."
   ]
  },
  {
   "cell_type": "code",
   "execution_count": 29,
   "metadata": {},
   "outputs": [
    {
     "data": {
      "text/plain": [
       "0.21"
      ]
     },
     "execution_count": 29,
     "metadata": {},
     "output_type": "execute_result"
    }
   ],
   "source": [
    "# Вариант 1 — через комбинаторику\n",
    "\n",
    "# Считаем количество сочетаний 4 карт из 9 крести\n",
    "\n",
    "import math\n",
    "\n",
    "def combinations(a, b):\n",
    "    res = math.factorial(b) / (math.factorial(a) * math.factorial(b - a))\n",
    "    return res\n",
    " \n",
    "c_cross = combinations(4, 9) # количество сочетаний 4 карт из 9 крести\n",
    "c_other = combinations(0, 27) # количество сочетаний 0 карт из 27 оставшихся\n",
    "c_total = combinations(4, 36) # полное количество сочетаний 4 карт из 36\n",
    "p_cross = c_cross * c_other / c_total * 100 # вероятность выбрать 4 крести из 36 карт\n",
    "round(p_cross, 2)"
   ]
  },
  {
   "cell_type": "code",
   "execution_count": 31,
   "metadata": {},
   "outputs": [
    {
     "data": {
      "text/plain": [
       "0.21"
      ]
     },
     "execution_count": 31,
     "metadata": {},
     "output_type": "execute_result"
    }
   ],
   "source": [
    "# Вариант 1 — через вероятность\n",
    "\n",
    "p1 = 9 / 36 # вероятность того, что из 36 карт мы выберем первую крести\n",
    "p2 = 8 / 35 # вероятность того, что из 36 карт мы выберем вторую крести\n",
    "p3 = 7 / 34 # вероятность того, что из 36 карт мы выберем третью крести\n",
    "p4 = 6 / 33 # вероятность того, что из 36 карт мы выберем четвертую крести\n",
    "\n",
    "p_cross_v2 = p1 * p2 * p3 * p4 * 100\n",
    "round(p_cross_v2, 2)"
   ]
  },
  {
   "cell_type": "code",
   "execution_count": 33,
   "metadata": {},
   "outputs": [
    {
     "data": {
      "text/plain": [
       "38.95"
      ]
     },
     "execution_count": 33,
     "metadata": {},
     "output_type": "execute_result"
    }
   ],
   "source": [
    "# Ищем вероятность того, что среди 4 карт окажется хотя бы 1 туз\n",
    "\n",
    "# Нас интересуют такие сочетания: 1 туз + 3 НЕ туз, 2 туз + 2 НЕ туз, 3 туз + 1 НЕ туз, 4 туза\n",
    "\n",
    "c_ace1 = combinations(1, 4) * combinations(3, 32) # количество сочетаний 1 туз + 3 другие\n",
    "c_ace2 = combinations(2, 4) * combinations(2, 32) # количество сочетаний 2 туза + 2 другие\n",
    "c_ace3 = combinations(3, 4) * combinations(1, 32) # количество сочетаний 3 туза + 1 другие\n",
    "c_ace4 = combinations(4, 4) * combinations(0, 32) # количество сочетаний 4 туза\n",
    "\n",
    "c_ace_total = c_ace1 + c_ace2 + c_ace3 + c_ace4 # нас интересует вариант или / или, поэтому складываем\n",
    "p_ace = c_ace_total / c_total * 100\n",
    "round(p_ace, 2)"
   ]
  },
  {
   "cell_type": "markdown",
   "metadata": {},
   "source": [
    "# Задание 2"
   ]
  },
  {
   "cell_type": "markdown",
   "metadata": {},
   "source": [
    "На входной двери подъезда установлен кодовый замок, содержащий десять кнопок с цифрами от 0 до 9. Код содержит три цифры, которые нужно нажать одновременно. Какова вероятность того, что человек, не знающий код, откроет дверь с первой попытки?"
   ]
  },
  {
   "cell_type": "markdown",
   "metadata": {},
   "source": [
    "Посчитаем, сколько комбинаций может быть у кода. В условии сказано, что цифры нажимаются одновременно, соответственно у нас нет вариантов с повторяющимися цифрами. Используем формулу сочетания."
   ]
  },
  {
   "cell_type": "code",
   "execution_count": 40,
   "metadata": {},
   "outputs": [
    {
     "data": {
      "text/plain": [
       "0.83"
      ]
     },
     "execution_count": 40,
     "metadata": {},
     "output_type": "execute_result"
    }
   ],
   "source": [
    "c = combinations(3, 10)\n",
    "p = 1 / c * 100\n",
    "round(p, 2)"
   ]
  },
  {
   "cell_type": "code",
   "execution_count": 41,
   "metadata": {},
   "outputs": [],
   "source": []
  },
  {
   "cell_type": "markdown",
   "metadata": {},
   "source": [
    "# Задание 3"
   ]
  },
  {
   "cell_type": "markdown",
   "metadata": {},
   "source": [
    "В ящике имеется 15 деталей, из которых 9 окрашены. Рабочий случайным образом извлекает 3 детали. Какова вероятность того, что все извлеченные детали окрашены?"
   ]
  },
  {
   "cell_type": "code",
   "execution_count": 42,
   "metadata": {},
   "outputs": [
    {
     "data": {
      "text/plain": [
       "18.46"
      ]
     },
     "execution_count": 42,
     "metadata": {},
     "output_type": "execute_result"
    }
   ],
   "source": [
    "# найдем количество сочетаний 3 деталей из 15\n",
    "c_d = combinations(3, 15)\n",
    "\n",
    "# найдем сочетания 3 деталей из 9 окрашенных\n",
    "c_pd = combinations(3, 9)\n",
    "\n",
    "p_pd = c_pd / c_d * 100\n",
    "round(p_pd, 2)"
   ]
  },
  {
   "cell_type": "code",
   "execution_count": 44,
   "metadata": {},
   "outputs": [
    {
     "data": {
      "text/plain": [
       "18.46"
      ]
     },
     "execution_count": 44,
     "metadata": {},
     "output_type": "execute_result"
    }
   ],
   "source": [
    "# Вариант решения через вероятность\n",
    "\n",
    "p_d1 = 9 / 15 # вероятность того, что первая деталь окрашена\n",
    "p_d2 = 8 / 14 # вероятность того, что вторая деталь окрашена\n",
    "p_d3 = 7 / 13 # вероятность того, что третья деталь окрашена\n",
    "p_d_total = p_d1 * p_d2 * p_d3 * 100\n",
    "\n",
    "round(p_d_total, 2)"
   ]
  },
  {
   "cell_type": "markdown",
   "metadata": {},
   "source": [
    "# Задание 4"
   ]
  },
  {
   "cell_type": "markdown",
   "metadata": {},
   "source": [
    "В лотерее 100 билетов. Из них 2 выигрышных. Какова вероятность того, что 2 приобретенных билета окажутся выигрышными?"
   ]
  },
  {
   "cell_type": "code",
   "execution_count": 48,
   "metadata": {},
   "outputs": [
    {
     "data": {
      "text/plain": [
       "0.02"
      ]
     },
     "execution_count": 48,
     "metadata": {},
     "output_type": "execute_result"
    }
   ],
   "source": [
    "# найдем количество сочетаний 2 билетов из 100\n",
    "c_tickets_total = combinations(2, 100)\n",
    "\n",
    "# найдем количество сочетаний 2 билетов из 2 выигрышных\n",
    "c_tickets_win = combinations(2, 2)\n",
    "\n",
    "p_tickets_win = c_tickets_win / c_tickets_total * 100\n",
    "round(p_tickets_win, 2)"
   ]
  },
  {
   "cell_type": "code",
   "execution_count": 49,
   "metadata": {},
   "outputs": [
    {
     "data": {
      "text/plain": [
       "0.02"
      ]
     },
     "execution_count": 49,
     "metadata": {},
     "output_type": "execute_result"
    }
   ],
   "source": [
    "# решение через вероятность\n",
    "\n",
    "p1_tickets_win = 2 / 100 # вероятность того, что первый билет окажется выигрышным\n",
    "p2_tickets_win = 1 / 99 # вероятность того, что второй билет окажется выигрышным\n",
    "\n",
    "p_tickets_win_v2 = p1_tickets_win * p2_tickets_win * 100\n",
    "round(p_tickets_win_v2, 2)"
   ]
  },
  {
   "cell_type": "code",
   "execution_count": null,
   "metadata": {},
   "outputs": [],
   "source": []
  }
 ],
 "metadata": {
  "kernelspec": {
   "display_name": "Python 3",
   "language": "python",
   "name": "python3"
  },
  "language_info": {
   "codemirror_mode": {
    "name": "ipython",
    "version": 3
   },
   "file_extension": ".py",
   "mimetype": "text/x-python",
   "name": "python",
   "nbconvert_exporter": "python",
   "pygments_lexer": "ipython3",
   "version": "3.7.6"
  }
 },
 "nbformat": 4,
 "nbformat_minor": 4
}
