{
 "cells": [
  {
   "cell_type": "markdown",
   "metadata": {},
   "source": [
    "# Задание 1"
   ]
  },
  {
   "cell_type": "markdown",
   "metadata": {},
   "source": [
    "Вероятность того, что стрелок попадет в мишень, выстрелив один раз, равна 0.8. Стрелок выстрелил 100 раз. Найдите вероятность того, что стрелок попадет в цель ровно 85 раз."
   ]
  },
  {
   "cell_type": "code",
   "execution_count": 56,
   "metadata": {},
   "outputs": [
    {
     "name": "stdout",
     "output_type": "stream",
     "text": [
      "0.05\n"
     ]
    }
   ],
   "source": [
    "# Это биномиальное распределение. Ищем вероятность по формуле Бернулли\n",
    "\n",
    "import math\n",
    "\n",
    "def combinations(a, b):\n",
    "    res = math.factorial(b) / (math.factorial(a) * math.factorial(b - a))\n",
    "    return res\n",
    "\n",
    "def bernoulli(p, k, n):\n",
    "    return round(combinations(k, n) * p**k * (1 - p)**(n-k), 2)\n",
    "    \n",
    "\n",
    "n = 100 # 100 испытаний\n",
    "k = 85 # 85 попаданий в цель\n",
    "p = 0.8 # средняя вероятность попадания в цель\n",
    "\n",
    "p_85_100 = bernoulli(p, k, n) \n",
    "print(p_85_100)"
   ]
  },
  {
   "cell_type": "markdown",
   "metadata": {},
   "source": [
    "# Задание 2"
   ]
  },
  {
   "cell_type": "markdown",
   "metadata": {},
   "source": [
    "Вероятность того, что лампочка перегорит в течение первого дня эксплуатации, равна 0.0004. В жилом комплексе после ремонта в один день включили 5000 новых лампочек. Какова вероятность, что ни одна из них не перегорит в первый день? Какова вероятность, что перегорят ровно две?"
   ]
  },
  {
   "cell_type": "code",
   "execution_count": 57,
   "metadata": {},
   "outputs": [
    {
     "name": "stdout",
     "output_type": "stream",
     "text": [
      "0.14\n"
     ]
    }
   ],
   "source": [
    "# Отвечаем на вопрос: Какова вероятность, что ни одна из них не перегорит в первый день?\n",
    "\n",
    "p = 0.0004 # вероятность\n",
    "n = 5000 # количество испытаний\n",
    "k = 0 # количество наступления события\n",
    "\n",
    "p_0_5000 = bernoulli(p, k, n) \n",
    "print(p_0_5000)"
   ]
  },
  {
   "cell_type": "code",
   "execution_count": 11,
   "metadata": {},
   "outputs": [
    {
     "name": "stdout",
     "output_type": "stream",
     "text": [
      "0.27\n"
     ]
    }
   ],
   "source": [
    "# Отвечаем на вопрос: Какова вероятность, что перегорят ровно две?\n",
    "\n",
    "p = 0.0004 # вероятность\n",
    "n = 5000 # количество испытаний\n",
    "k = 2 # количество наступления события\n",
    "\n",
    "p_2_5000 = bernoulli(p, k, n) \n",
    "print(p_2_5000)"
   ]
  },
  {
   "cell_type": "markdown",
   "metadata": {},
   "source": [
    "# Задание 3"
   ]
  },
  {
   "cell_type": "markdown",
   "metadata": {},
   "source": [
    "Монету подбросили 144 раза. Какова вероятность, что орел выпадет ровно 70 раз?"
   ]
  },
  {
   "cell_type": "code",
   "execution_count": 55,
   "metadata": {},
   "outputs": [
    {
     "name": "stdout",
     "output_type": "stream",
     "text": [
      "0.06\n"
     ]
    }
   ],
   "source": [
    "p = 0.5 # вероятность\n",
    "n = 144 # количество испытаний\n",
    "k = 70 # количество наступления события\n",
    "\n",
    "p_70_144 = bernoulli(p, k, n) \n",
    "print(p_70_144)"
   ]
  },
  {
   "cell_type": "markdown",
   "metadata": {},
   "source": [
    "# Задание 4"
   ]
  },
  {
   "cell_type": "markdown",
   "metadata": {},
   "source": [
    "В первом ящике находится 10 мячей, из которых 7 - белые. Во втором ящике - 11 мячей, из которых 9 белых. Из каждого ящика вытаскивают случайным образом по два мяча. Какова вероятность того, что все мячи белые? Какова вероятность того, что ровно два мяча белые? Какова вероятность того, что хотя бы один мяч белый?"
   ]
  },
  {
   "cell_type": "code",
   "execution_count": 54,
   "metadata": {},
   "outputs": [
    {
     "name": "stdout",
     "output_type": "stream",
     "text": [
      "0.55\n"
     ]
    }
   ],
   "source": [
    "# Отвечаем на вопрос: какова вероятность того, что все мячи белые?\n",
    "\n",
    "# Вариант 2 — через комбинаторику\n",
    "\n",
    "c_1_2 = combinations(2, 7) # количество комбинаций выбрать 2 белых мяча из первого ящика\n",
    "c_2_2 = combinations(2, 9) # количество комбинаций выбрать 2 белых мяча из второго ящика\n",
    "c_2 = c_1_2 + c_2_2 # сумма комбинаций выбрать по 2 белых мяча из первого и второго ящика\n",
    "\n",
    "\n",
    "# Считаем общее количество комбинаций выбрать по 2 любых мяча \n",
    "c_1 = combinations(2, 10) # количество комбинаций выбрать любые 2 мяча из первого ящика\n",
    "c_2 = combinations(2, 11) # количество комбинаций выбрать любые 2 мяча из второго ящика\n",
    "c = c_1 + c_2\n",
    "\n",
    "p_allwhite_v2 = round(c_2 / c, 2)\n",
    "print(p_allwhite_v2)"
   ]
  },
  {
   "cell_type": "code",
   "execution_count": 60,
   "metadata": {},
   "outputs": [
    {
     "name": "stdout",
     "output_type": "stream",
     "text": [
      "0.63\n"
     ]
    }
   ],
   "source": [
    "# Отвечаем на вопрос: Какова вероятность того, что ровно два мяча белые?\n",
    "\n",
    "# Комбинации: 2 + 0 / 1 + 1 / 0 + 2\n",
    "\n",
    "# 2 + 0 — это и есть c_1_2 + 1\n",
    "\n",
    "# 1 + 1\n",
    "c_1_1 = combinations(1, 7)\n",
    "c_1_2 = combinations(1, 9)\n",
    "\n",
    "# 0 + 2 — это и есть 1 + c_2_2\n",
    "\n",
    "# Считаем вероятность\n",
    "c_2 = round((c_1_2 + 1 + c_1_1 + c_1_2 + 1 + c_2_2) / c, 2)\n",
    "print(c_2)"
   ]
  },
  {
   "cell_type": "code",
   "execution_count": 49,
   "metadata": {},
   "outputs": [
    {
     "name": "stdout",
     "output_type": "stream",
     "text": [
      "0.96\n"
     ]
    }
   ],
   "source": [
    "# Отвечаем на вопрос: какова вероятность того, что хотя бы один мяч белый?\n",
    "\n",
    "# Это означает, что нас устраивают комбинации: 1 белый, 2 белых, 3 белых, 4 белых\n",
    "# Лучше пойти от противного и рассчитать: все комбинации - комбинации с 0 белыми мячами\n",
    "\n",
    "# Считаем количество комбинаций с 0 белыми мячами\n",
    "c_1_0 = combinations(2, 3) # количество комбинаций выбрать 2 НЕбелых мача из первого ящика\n",
    "c_2_0 = combinations(2, 2) # количество комбинаций выбрать 2 НЕбелых мача из второго ящика\n",
    "c_0 = c_1_0 + c_2_0\n",
    "\n",
    "# Считаем общее количество комбинаций\n",
    "c_1 = combinations(2, 10) # количество комбинаций выбрать любые 2 мяча из первого ящика\n",
    "c_2 = combinations(2, 11) # количество комбинаций выбрать любые 2 мяча из второго ящика\n",
    "c = c_1 + c_2\n",
    "\n",
    "# считаем количество комбинаций с 1 и более белыми мячами из обоих ящиков\n",
    "c_1 = c - c_0\n",
    "\n",
    "# считаем вероятность выбрать 1 и более белый мяч из обоих ящиков\n",
    "p_1 = round(c_1/c, 2)\n",
    "print(p_1)"
   ]
  },
  {
   "cell_type": "code",
   "execution_count": null,
   "metadata": {},
   "outputs": [],
   "source": []
  },
  {
   "cell_type": "code",
   "execution_count": null,
   "metadata": {},
   "outputs": [],
   "source": []
  },
  {
   "cell_type": "code",
   "execution_count": null,
   "metadata": {},
   "outputs": [],
   "source": []
  },
  {
   "cell_type": "code",
   "execution_count": null,
   "metadata": {},
   "outputs": [],
   "source": []
  },
  {
   "cell_type": "code",
   "execution_count": null,
   "metadata": {},
   "outputs": [],
   "source": []
  }
 ],
 "metadata": {
  "kernelspec": {
   "display_name": "Python 3",
   "language": "python",
   "name": "python3"
  },
  "language_info": {
   "codemirror_mode": {
    "name": "ipython",
    "version": 3
   },
   "file_extension": ".py",
   "mimetype": "text/x-python",
   "name": "python",
   "nbconvert_exporter": "python",
   "pygments_lexer": "ipython3",
   "version": "3.7.6"
  }
 },
 "nbformat": 4,
 "nbformat_minor": 4
}
